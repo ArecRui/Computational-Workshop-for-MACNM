{
 "cells": [
  {
   "cell_type": "markdown",
   "metadata": {},
   "source": [
    "### MACNM Computational Workshop No. 1 (Jan. 5 Morning) <br>Python Programming I<br> by Ji Lan"
   ]
  },
  {
   "cell_type": "markdown",
   "metadata": {},
   "source": [
    "### NOTES"
   ]
  },
  {
   "cell_type": "markdown",
   "metadata": {},
   "source": [
    "<p>**1. Element:**</p>\n",
    "\n",
    "    a. Constant:\n",
    "        i. Int \n",
    "        ii. Float\n",
    "        iii. Bool\n",
    "        iv. String\n",
    "    b. Variable:\n",
    "        i. Assignment\n",
    "    c. Operator:\n",
    "        i. Arithmetic\n",
    "        ii. logic\n",
    "    d. Expression:\n",
    "        i. priority "
   ]
  },
  {
   "cell_type": "markdown",
   "metadata": {},
   "source": [
    "<p>**2. Basic Data structures and Data structures in pandas:**</p>\n",
    "\n",
    "    a. List\n",
    "    b. Dictionary\n",
    "    c. DataFrame"
   ]
  },
  {
   "cell_type": "markdown",
   "metadata": {},
   "source": [
    "<p>**3. Procedure:**<p>\n",
    "\n",
    "    a. Sequenctial\n",
    "    b. Conditional\n",
    "        i. If-else\n",
    "    c. Iterative"
   ]
  },
  {
   "cell_type": "markdown",
   "metadata": {},
   "source": [
    "### CODE"
   ]
  },
  {
   "cell_type": "markdown",
   "metadata": {},
   "source": [
    "<p>**1. Elements:**</p>"
   ]
  },
  {
   "cell_type": "markdown",
   "metadata": {},
   "source": [
    "<p>a. Constants:</p>"
   ]
  },
  {
   "cell_type": "code",
   "execution_count": 17,
   "metadata": {
    "scrolled": true
   },
   "outputs": [
    {
     "name": "stdout",
     "output_type": "stream",
     "text": [
      "5\n",
      "<class 'int'>\n"
     ]
    }
   ],
   "source": [
    "# int constant:\n",
    "print (5)\n",
    "print (type(5))"
   ]
  },
  {
   "cell_type": "code",
   "execution_count": 18,
   "metadata": {
    "slideshow": {
     "slide_type": "-"
    }
   },
   "outputs": [
    {
     "name": "stdout",
     "output_type": "stream",
     "text": [
      "5.0\n",
      "<class 'float'>\n"
     ]
    }
   ],
   "source": [
    "#float constant\n",
    "print (5.0)\n",
    "print (type(5.0))"
   ]
  },
  {
   "cell_type": "code",
   "execution_count": 19,
   "metadata": {},
   "outputs": [
    {
     "name": "stdout",
     "output_type": "stream",
     "text": [
      "10.0\n",
      "<class 'float'>\n"
     ]
    }
   ],
   "source": [
    "#(int + float = float) constants\n",
    "print (5+5.0)\n",
    "print (type(5+5.0))"
   ]
  },
  {
   "cell_type": "code",
   "execution_count": 20,
   "metadata": {},
   "outputs": [
    {
     "name": "stdout",
     "output_type": "stream",
     "text": [
      "Computational Workshop\n",
      "<class 'str'>\n"
     ]
    }
   ],
   "source": [
    "#string constant\n",
    "print (\"Computational Workshop\")\n",
    "print (type(\"Computational Workshop\"))"
   ]
  },
  {
   "cell_type": "code",
   "execution_count": 21,
   "metadata": {},
   "outputs": [
    {
     "data": {
      "text/plain": [
       "3.0"
      ]
     },
     "execution_count": 21,
     "metadata": {},
     "output_type": "execute_result"
    }
   ],
   "source": [
    "#translate int, string, and float constants by int(), str(), and float()\n",
    "str(3)\n",
    "str(3.0)\n",
    "int(\"3\")\n",
    "int(3.0)\n",
    "float(3)\n",
    "float(\"3\")"
   ]
  },
  {
   "cell_type": "markdown",
   "metadata": {},
   "source": [
    "b. Variable"
   ]
  },
  {
   "cell_type": "code",
   "execution_count": 22,
   "metadata": {},
   "outputs": [
    {
     "name": "stdout",
     "output_type": "stream",
     "text": [
      "<class 'int'>\n"
     ]
    }
   ],
   "source": [
    "#assign int constant to int variable\n",
    "sex = 1\n",
    "print (type(sex))"
   ]
  },
  {
   "cell_type": "code",
   "execution_count": 23,
   "metadata": {},
   "outputs": [
    {
     "name": "stdout",
     "output_type": "stream",
     "text": [
      "<class 'float'>\n"
     ]
    }
   ],
   "source": [
    "#assign float constant to float variable\n",
    "height = 3.1\n",
    "print (type(height))"
   ]
  },
  {
   "cell_type": "code",
   "execution_count": 24,
   "metadata": {},
   "outputs": [
    {
     "name": "stdout",
     "output_type": "stream",
     "text": [
      "<class 'str'>\n"
     ]
    }
   ],
   "source": [
    "#assign string constant to string variable\n",
    "word = \"happy\"\n",
    "print (type(word))"
   ]
  },
  {
   "cell_type": "code",
   "execution_count": 25,
   "metadata": {},
   "outputs": [
    {
     "name": "stdout",
     "output_type": "stream",
     "text": [
      "3.1\n"
     ]
    }
   ],
   "source": [
    "#assign a variable to another variable\n",
    "height = 3.1\n",
    "a = height\n",
    "print (a)"
   ]
  },
  {
   "cell_type": "markdown",
   "metadata": {},
   "source": [
    "c&d. Operator & Expression"
   ]
  },
  {
   "cell_type": "code",
   "execution_count": 26,
   "metadata": {},
   "outputs": [
    {
     "name": "stdout",
     "output_type": "stream",
     "text": [
      "18.1\n"
     ]
    }
   ],
   "source": [
    "# constant1 + constant2\n",
    "print (8.9 + 9.2)"
   ]
  },
  {
   "cell_type": "code",
   "execution_count": 27,
   "metadata": {},
   "outputs": [
    {
     "name": "stdout",
     "output_type": "stream",
     "text": [
      "18.1\n"
     ]
    }
   ],
   "source": [
    "# variable1 + variable2\n",
    "height1 = 8.9\n",
    "height2 = 9.2\n",
    "print (height1 + height2)"
   ]
  },
  {
   "cell_type": "code",
   "execution_count": 28,
   "metadata": {},
   "outputs": [
    {
     "name": "stdout",
     "output_type": "stream",
     "text": [
      "5.0\n"
     ]
    }
   ],
   "source": [
    "# constant1 + constant2/constant3\n",
    "print (3+4/2)"
   ]
  },
  {
   "cell_type": "code",
   "execution_count": 29,
   "metadata": {},
   "outputs": [
    {
     "name": "stdout",
     "output_type": "stream",
     "text": [
      "False\n",
      "<class 'bool'>\n"
     ]
    }
   ],
   "source": [
    "# constant1 == constant2\n",
    "print (1 == 2)\n",
    "print (type(1 == 2))"
   ]
  },
  {
   "cell_type": "code",
   "execution_count": 30,
   "metadata": {},
   "outputs": [
    {
     "name": "stdout",
     "output_type": "stream",
     "text": [
      "True\n",
      "<class 'bool'>\n"
     ]
    }
   ],
   "source": [
    "# constant1 < constant2\n",
    "print (1 < 2)\n",
    "print (type(1 < 2))"
   ]
  },
  {
   "cell_type": "code",
   "execution_count": 31,
   "metadata": {},
   "outputs": [
    {
     "name": "stdout",
     "output_type": "stream",
     "text": [
      "False\n",
      "<class 'bool'>\n"
     ]
    }
   ],
   "source": [
    "# constant1 < constant2 and constant1 < constant3\n",
    "print (1 < 2 and 1 < 0)\n",
    "print (type(1 < 2 and 1 < 0))"
   ]
  },
  {
   "cell_type": "code",
   "execution_count": 32,
   "metadata": {},
   "outputs": [
    {
     "name": "stdout",
     "output_type": "stream",
     "text": [
      "18.1\n",
      "0.9673913043478262\n",
      "True\n"
     ]
    }
   ],
   "source": [
    "# assign an expression to a variable\n",
    "sumHeight = height1 + height2 #or 8.9 + 9.2\n",
    "print (sumHeight)\n",
    "\n",
    "ratioHeight = height1/height2 #or 8.9/9.2\n",
    "print (ratioHeight)\n",
    "\n",
    "equal = 1 == 1\n",
    "print (equal)"
   ]
  },
  {
   "cell_type": "markdown",
   "metadata": {},
   "source": [
    "<p>**2. Data structures in pandas:**</p>"
   ]
  },
  {
   "cell_type": "code",
   "execution_count": 33,
   "metadata": {},
   "outputs": [],
   "source": [
    "from pandas import DataFrame, Series\n",
    "import numpy as np\n",
    "import pandas as pd"
   ]
  },
  {
   "cell_type": "markdown",
   "metadata": {},
   "source": [
    "a. List"
   ]
  },
  {
   "cell_type": "code",
   "execution_count": 34,
   "metadata": {},
   "outputs": [],
   "source": [
    "one_dimension_list = [1,2,3,4,5]\n",
    "two_dimension_list = [[1,2,3],[4,5,6],[7,8,9]]"
   ]
  },
  {
   "cell_type": "markdown",
   "metadata": {},
   "source": [
    "b. Dictionary"
   ]
  },
  {
   "cell_type": "code",
   "execution_count": 35,
   "metadata": {},
   "outputs": [],
   "source": [
    "one_dimension_dictionary = {\"Math\": 98, \"Chinese\": 99, \"English\": 87, \"Music\": 77}\n",
    "two_dimension_dictionary = {\"Math\": {\"first\": 96, \"second\": 87, \"third\": 86}, \"Chinese\": {\"first\": 91, \"second\": 76, \"third\": 98}}"
   ]
  },
  {
   "cell_type": "code",
   "execution_count": 36,
   "metadata": {},
   "outputs": [],
   "source": [
    "data = {'state': ['Ohio', 'Ohio', 'Ohio', 'Nevada', 'Nevada'],\n",
    "'year': [2000, 2001, 2002, 2001, 2002],\n",
    "'pop': [1.5, 1.7, 3.6, 2.4, 2.9]}"
   ]
  },
  {
   "cell_type": "markdown",
   "metadata": {},
   "source": [
    "c. DataFrame"
   ]
  },
  {
   "cell_type": "code",
   "execution_count": 37,
   "metadata": {},
   "outputs": [],
   "source": [
    "#IO"
   ]
  },
  {
   "cell_type": "code",
   "execution_count": 38,
   "metadata": {
    "scrolled": true
   },
   "outputs": [
    {
     "name": "stdout",
     "output_type": "stream",
     "text": [
      "                 GUID          Date (HKT)  \\\n",
      "0  201504835877605408 2012-05-13 10:51:11   \n",
      "1    9805916782202880 2010-12-01 11:08:07   \n",
      "2  435352986026786816 2014-02-17 18:00:14   \n",
      "3  579954355085803520 2015-03-23 18:34:27   \n",
      "4  136762160100548608 2011-11-16 19:06:54   \n",
      "\n",
      "                                                 URL  \\\n",
      "0  http://twitter.com/MisterBearBear/status/20150...   \n",
      "1  http://twitter.com/jeromyu/status/980591678220...   \n",
      "2  http://twitter.com/FDTLIRL/status/435352986026...   \n",
      "3  http://twitter.com/PPSSHK/status/5799543550858...   \n",
      "4  http://twitter.com/noreenwelch/status/13676216...   \n",
      "\n",
      "                                            Contents           Country  \\\n",
      "0  I'm at City University of Hong Kong 香港城市大學 (Ko...  Hong Kong S.A.R.   \n",
      "1  I'm at City University of Hong Kong 香港城市大學 (81...  Hong Kong S.A.R.   \n",
      "2  City University of Hong Kong makes major enter...           Ireland   \n",
      "3  feeling exhausted at City University of Hong K...  Hong Kong S.A.R.   \n",
      "4  Mr Mugabe made the comments as he attended his...       New Zealand   \n",
      "\n",
      "   State/Region City/Urban Area Category       Emotion   Source Gender  Posts  \\\n",
      "0  Kowloon City       Hong Kong  Neutral       Neutral  Twitter      M    NaN   \n",
      "1           NaN             NaN  Neutral       Neutral  Twitter      M    NaN   \n",
      "2        Dublin          Dublin  Neutral       Neutral  Twitter    NaN  437.0   \n",
      "3  Kowloon City       Hong Kong  Neutral       Neutral  Twitter    NaN  139.0   \n",
      "4           NaN             NaN  Neutral  Unclassified  Twitter      F    NaN   \n",
      "\n",
      "   Followers  Following Post Type  author_anonymous  \n",
      "0        NaN        NaN     Tweet              1385  \n",
      "1        NaN        NaN     Tweet              1386  \n",
      "2       28.0       40.0     Tweet              1387  \n",
      "3       11.0       56.0     Tweet              1388  \n",
      "4        NaN        NaN     Tweet              1389  \n"
     ]
    }
   ],
   "source": [
    "#pandas.read_excel\n",
    "df = pd.read_excel(\"tweet_en_anony.xlsx\")\n",
    "print (df.head())"
   ]
  },
  {
   "cell_type": "code",
   "execution_count": 39,
   "metadata": {},
   "outputs": [
    {
     "name": "stdout",
     "output_type": "stream",
     "text": [
      "   user_name  user_statuses_count  user_followers_count  user_friends_count  \\\n",
      "0       1385                 2037                   126                 130   \n",
      "1       1386                59032                  1768                2235   \n",
      "2       1386                59032                  1768                2235   \n",
      "3       1387                  915                    53                  54   \n",
      "4       1388                  270                    14                  57   \n",
      "\n",
      "   user_verified  user_utc_offset     user_location user_lang  user_time_zone  \\\n",
      "0          False              NaN         Hong Kong        en             NaN   \n",
      "1          False              NaN  Hongkong am Hell        en             NaN   \n",
      "2          False              NaN  Hongkong am Hell        en             NaN   \n",
      "3          False              NaN   Dublin, Ireland        en             NaN   \n",
      "4          False              NaN         Hong Kong        en             NaN   \n",
      "\n",
      "   user_created_at_timestamp  user_protected  \\\n",
      "0               1.237883e+09           False   \n",
      "1               1.187550e+09           False   \n",
      "2               1.187550e+09           False   \n",
      "3               1.357620e+09           False   \n",
      "4               1.382507e+09           False   \n",
      "\n",
      "                                    user_description user_gender  \\\n",
      "0  Hongkonger. Ham Operator. Gamer. Runner. Hiker...           M   \n",
      "1  Merry prankster of the Hong Kong media scene, ...           M   \n",
      "2  Merry prankster of the Hong Kong media scene, ...           M   \n",
      "3  FTL Group (Technologies) Limited is a Micro Fo...         NaN   \n",
      "4  counselling, family, depression, treatment, ps...         NaN   \n",
      "\n",
      "       user_country    user_state  user_city  \n",
      "0  Hong Kong S.A.R.  Kowloon City  Hong Kong  \n",
      "1  Hong Kong S.A.R.           NaN        NaN  \n",
      "2  Hong Kong S.A.R.  Kowloon City  Hong Kong  \n",
      "3           Ireland        Dublin     Dublin  \n",
      "4  Hong Kong S.A.R.  Kowloon City  Hong Kong  \n"
     ]
    }
   ],
   "source": [
    "#pandas.read_csv\n",
    "df = pd.read_csv(\"user_profiles_en_anony.csv\")\n",
    "print (df.head())"
   ]
  },
  {
   "cell_type": "code",
   "execution_count": 40,
   "metadata": {},
   "outputs": [
    {
     "name": "stdout",
     "output_type": "stream",
     "text": [
      "    state  year  pop\n",
      "0    Ohio  2000  1.5\n",
      "1    Ohio  2001  1.7\n",
      "2    Ohio  2002  3.6\n",
      "3  Nevada  2001  2.4\n",
      "4  Nevada  2002  2.9\n"
     ]
    }
   ],
   "source": [
    "#Create a DataFrame from a dictionary of lists\n",
    "data = {'state': ['Ohio', 'Ohio', 'Ohio', 'Nevada', 'Nevada'],\n",
    "'year': [2000, 2001, 2002, 2001, 2002],\n",
    "'pop': [1.5, 1.7, 3.6, 2.4, 2.9]}\n",
    "frame = DataFrame(data)\n",
    "print (frame)"
   ]
  },
  {
   "cell_type": "code",
   "execution_count": 41,
   "metadata": {},
   "outputs": [],
   "source": [
    "#DataFrame.to_csv\n",
    "frame.to_csv(\"New.csv\")"
   ]
  },
  {
   "cell_type": "code",
   "execution_count": 42,
   "metadata": {},
   "outputs": [],
   "source": [
    "#DataFrame.to_excel\n",
    "frame.to_excel(\"New.xls\")"
   ]
  },
  {
   "cell_type": "code",
   "execution_count": 43,
   "metadata": {},
   "outputs": [
    {
     "name": "stdout",
     "output_type": "stream",
     "text": [
      "   year  pop   state\n",
      "0  2000  1.5    Ohio\n",
      "1  2001  1.7    Ohio\n",
      "2  2002  3.6    Ohio\n",
      "3  2001  2.4  Nevada\n",
      "4  2002  2.9  Nevada\n"
     ]
    }
   ],
   "source": [
    "#Create a DataFrame from a dictionary of lists and specify the column order\n",
    "frame = DataFrame(data, columns = [\"year\", \"pop\", \"state\"])\n",
    "print (frame)"
   ]
  },
  {
   "cell_type": "code",
   "execution_count": 44,
   "metadata": {},
   "outputs": [
    {
     "name": "stdout",
     "output_type": "stream",
     "text": [
      "       year  pop   state\n",
      "one    2000  1.5    Ohio\n",
      "two    2001  1.7    Ohio\n",
      "three  2002  3.6    Ohio\n",
      "four   2001  2.4  Nevada\n",
      "five   2002  2.9  Nevada\n"
     ]
    }
   ],
   "source": [
    "#Create a DataFrame from a dictionary of lists and specify the row index\n",
    "frame = DataFrame(data, columns = [\"year\", \"pop\", \"state\"], index=['one', 'two', 'three', 'four', 'five'])\n",
    "print (frame)"
   ]
  },
  {
   "cell_type": "code",
   "execution_count": 45,
   "metadata": {},
   "outputs": [
    {
     "name": "stdout",
     "output_type": "stream",
     "text": [
      "(5, 3)\n"
     ]
    }
   ],
   "source": [
    "#Read the shape of a DataFrame\n",
    "print (frame.shape)"
   ]
  },
  {
   "cell_type": "code",
   "execution_count": 46,
   "metadata": {},
   "outputs": [
    {
     "name": "stdout",
     "output_type": "stream",
     "text": [
      "Index(['year', 'pop', 'state'], dtype='object')\n"
     ]
    }
   ],
   "source": [
    "#Read the variables (column titles)\n",
    "print (frame.columns)"
   ]
  },
  {
   "cell_type": "code",
   "execution_count": 47,
   "metadata": {
    "scrolled": true
   },
   "outputs": [
    {
     "name": "stdout",
     "output_type": "stream",
     "text": [
      "one        Ohio\n",
      "two        Ohio\n",
      "three      Ohio\n",
      "four     Nevada\n",
      "five     Nevada\n",
      "Name: state, dtype: object\n",
      "one        Ohio\n",
      "two        Ohio\n",
      "three      Ohio\n",
      "four     Nevada\n",
      "five     Nevada\n",
      "Name: state, dtype: object\n"
     ]
    }
   ],
   "source": [
    "#Read a column of a DataFrame\n",
    "Column1 = frame[\"state\"]\n",
    "Column2 = frame.state\n",
    "print (Column1)\n",
    "print (Column2)"
   ]
  },
  {
   "cell_type": "code",
   "execution_count": 48,
   "metadata": {},
   "outputs": [
    {
     "name": "stdout",
     "output_type": "stream",
     "text": [
      "       year  pop  state\n",
      "one    2000  1.5      0\n",
      "two    2001  1.7      1\n",
      "three  2002  3.6      2\n",
      "four   2001  2.4      3\n",
      "five   2002  2.9      4\n",
      "       year  pop  state\n",
      "one    2000  1.5    100\n",
      "two    2001  1.7    100\n",
      "three  2002  3.6    100\n",
      "four   2001  2.4    100\n",
      "five   2002  2.9    100\n"
     ]
    }
   ],
   "source": [
    "# Assign a column with a list or a value\n",
    "frame[\"state\"] = [0,1,2,3,4]\n",
    "print(frame)\n",
    "frame[\"state\"] = 100\n",
    "print(frame)"
   ]
  },
  {
   "cell_type": "code",
   "execution_count": 49,
   "metadata": {},
   "outputs": [
    {
     "name": "stdout",
     "output_type": "stream",
     "text": [
      "Index(['one', 'two', 'three', 'four', 'five'], dtype='object')\n"
     ]
    }
   ],
   "source": [
    "#Read the index\n",
    "print (frame.index)"
   ]
  },
  {
   "cell_type": "code",
   "execution_count": 50,
   "metadata": {
    "scrolled": true
   },
   "outputs": [
    {
     "name": "stdout",
     "output_type": "stream",
     "text": [
      "year     2000.0\n",
      "pop         1.5\n",
      "state     100.0\n",
      "Name: one, dtype: float64\n",
      "year     2000.0\n",
      "pop         1.5\n",
      "state     100.0\n",
      "Name: one, dtype: float64\n"
     ]
    }
   ],
   "source": [
    "#Read a row of a DataFrame\n",
    "Row1 = frame.loc[\"one\"]\n",
    "print (Row1)\n",
    "Row2 = frame.iloc[0,:]\n",
    "print (Row2)"
   ]
  },
  {
   "cell_type": "code",
   "execution_count": 51,
   "metadata": {},
   "outputs": [
    {
     "name": "stdout",
     "output_type": "stream",
     "text": [
      "       year  pop  state\n",
      "one       0  1.0      2\n",
      "two    2001  1.7    100\n",
      "three  2002  3.6    100\n",
      "four   2001  2.4    100\n",
      "five   2002  2.9    100\n",
      "       year    pop  state\n",
      "one     100  100.0    100\n",
      "two    2001    1.7    100\n",
      "three  2002    3.6    100\n",
      "four   2001    2.4    100\n",
      "five   2002    2.9    100\n"
     ]
    }
   ],
   "source": [
    "#Assign a row with a list or a value\n",
    "frame.loc[\"one\"] = [0,1,2]\n",
    "print(frame)\n",
    "frame.loc[\"one\"] = 100\n",
    "print(frame)"
   ]
  },
  {
   "cell_type": "code",
   "execution_count": 52,
   "metadata": {},
   "outputs": [
    {
     "name": "stdout",
     "output_type": "stream",
     "text": [
      "         one     two   three    four    five\n",
      "year   100.0  2001.0  2002.0  2001.0  2002.0\n",
      "pop    100.0     1.7     3.6     2.4     2.9\n",
      "state  100.0   100.0   100.0   100.0   100.0\n"
     ]
    },
    {
     "data": {
      "text/plain": [
       "Ellipsis"
      ]
     },
     "execution_count": 52,
     "metadata": {},
     "output_type": "execute_result"
    }
   ],
   "source": [
    "# Transpose a DataFrame\n",
    "print (frame.T)\n",
    "..."
   ]
  },
  {
   "cell_type": "code",
   "execution_count": 53,
   "metadata": {},
   "outputs": [
    {
     "name": "stdout",
     "output_type": "stream",
     "text": [
      "       year    pop  state\n",
      "one     100  100.0    100\n",
      "two    2001    1.7    100\n",
      "three  2002    3.6    100\n",
      "four   2001    2.4    100\n",
      "five   2002    2.9    100\n",
      "       year    pop\n",
      "one     100  100.0\n",
      "two    2001    1.7\n",
      "three  2002    3.6\n",
      "four   2001    2.4\n",
      "five   2002    2.9\n"
     ]
    }
   ],
   "source": [
    "# Select columns directly\n",
    "print(frame)\n",
    "print(frame.loc[:,\"year\":\"pop\"])"
   ]
  },
  {
   "cell_type": "code",
   "execution_count": 54,
   "metadata": {},
   "outputs": [
    {
     "name": "stdout",
     "output_type": "stream",
     "text": [
      "       year    pop  state\n",
      "one     100  100.0    100\n",
      "two    2001    1.7    100\n",
      "three  2002    3.6    100\n",
      "four   2001    2.4    100\n",
      "five   2002    2.9    100\n",
      "       year    pop  state\n",
      "one     100  100.0    100\n",
      "three  2002    3.6    100\n",
      "       year  pop  state\n",
      "two    2001  1.7    100\n",
      "three  2002  3.6    100\n"
     ]
    }
   ],
   "source": [
    "# Select items directly\n",
    "print(frame)\n",
    "print(frame.loc[[\"one\",\"three\"],:])\n",
    "print (frame.iloc[1:3,:])"
   ]
  },
  {
   "cell_type": "code",
   "execution_count": 55,
   "metadata": {},
   "outputs": [
    {
     "name": "stdout",
     "output_type": "stream",
     "text": [
      "       year    pop  state\n",
      "one     100  100.0    100\n",
      "two    2001    1.7    100\n",
      "three  2002    3.6    100\n",
      "four   2001    2.4    100\n",
      "five   2002    2.9    100\n",
      "one      False\n",
      "two       True\n",
      "three    False\n",
      "four      True\n",
      "five     False\n",
      "Name: year, dtype: bool\n",
      "      year  pop  state\n",
      "two   2001  1.7    100\n",
      "four  2001  2.4    100\n"
     ]
    }
   ],
   "source": [
    "# Select items by specifying a value of a column\n",
    "print(frame)\n",
    "item_conditions = frame.loc[:, \"year\"] == 2001\n",
    "print (item_conditions)\n",
    "print (frame.loc[item_conditions, :])"
   ]
  },
  {
   "cell_type": "code",
   "execution_count": 56,
   "metadata": {
    "scrolled": false
   },
   "outputs": [
    {
     "name": "stdout",
     "output_type": "stream",
     "text": [
      "       year    pop  state\n",
      "one     100  100.0    100\n",
      "two    2001    1.7    100\n",
      "three  2002    3.6    100\n",
      "four   2001    2.4    100\n",
      "five   2002    2.9    100\n",
      "one      False\n",
      "two       True\n",
      "three     True\n",
      "four      True\n",
      "five      True\n",
      "Name: year, dtype: bool\n",
      "       year  pop  state\n",
      "two    2001  1.7    100\n",
      "three  2002  3.6    100\n",
      "four   2001  2.4    100\n",
      "five   2002  2.9    100\n"
     ]
    }
   ],
   "source": [
    "# Select items by specifying a value interval of a column\n",
    "print(frame)\n",
    "item_conditions = frame.loc[:, \"year\"] > 100\n",
    "print (item_conditions)\n",
    "print (frame.loc[item_conditions, :])"
   ]
  },
  {
   "cell_type": "markdown",
   "metadata": {},
   "source": [
    "<p>**3. Procedures:**<p>"
   ]
  },
  {
   "cell_type": "code",
   "execution_count": 57,
   "metadata": {},
   "outputs": [
    {
     "name": "stdout",
     "output_type": "stream",
     "text": [
      "#2\n",
      "#3\n",
      "  state  year  pop\n",
      "0  Ohio  2000  1.5\n",
      "1  Ohio  2001  1.7\n"
     ]
    }
   ],
   "source": [
    "#Sequential\n",
    "data = {'state': ['Ohio', 'Ohio', 'Ohio', 'Nevada', 'Nevada'],\n",
    "'year': [2000, 2001, 2002, 2001, 2002],\n",
    "'pop': [1.5, 1.7, 3.6, 2.4, 2.9]}\n",
    "#1 \n",
    "frame = DataFrame(data)\n",
    "#2 \n",
    "frame = DataFrame(data).loc[0:3]\n",
    "print (\"#2\")\n",
    "#3\n",
    "frame = DataFrame(data).loc[0:1]\n",
    "print (\"#3\")\n",
    "print (frame)"
   ]
  },
  {
   "cell_type": "code",
   "execution_count": 58,
   "metadata": {},
   "outputs": [
    {
     "name": "stdout",
     "output_type": "stream",
     "text": [
      "#3\n",
      "  state  year  pop\n",
      "0  Ohio  2000  1.5\n",
      "1  Ohio  2001  1.7\n"
     ]
    }
   ],
   "source": [
    "#Conditional, If-else\n",
    "data = {'state': ['Ohio', 'Ohio', 'Ohio', 'Nevada', 'Nevada'],\n",
    "'year': [2000, 2001, 2002, 2001, 2002],\n",
    "'pop': [1.5, 1.7, 3.6, 2.4, 2.9]}\n",
    "#1 \n",
    "frame = DataFrame(data)\n",
    "if frame.shape[0] < 4:\n",
    "#2    \n",
    "    frame = DataFrame(data).loc[0:3]\n",
    "    print (\"#2\")\n",
    "else:\n",
    "#3\n",
    "    frame = DataFrame(data).loc[0:1]\n",
    "    print (\"#3\")\n",
    "print (frame)"
   ]
  },
  {
   "cell_type": "code",
   "execution_count": 59,
   "metadata": {
    "scrolled": true
   },
   "outputs": [
    {
     "name": "stdout",
     "output_type": "stream",
     "text": [
      "    state  year  pop\n",
      "0    Ohio  2000  1.5\n",
      "1    Ohio  2001  1.7\n",
      "2    Ohio  2002  3.6\n",
      "3  Nevada  2001  2.4\n",
      "4  Nevada  2002  2.9\n",
      "Ohio\n",
      "Ohio\n",
      "Ohio\n",
      "Nevada\n",
      "Nevada\n"
     ]
    }
   ],
   "source": [
    "#iterative, for\n",
    "data = {'state': ['Ohio', 'Ohio', 'Ohio', 'Nevada', 'Nevada'],\n",
    "'year': [2000, 2001, 2002, 2001, 2002],\n",
    "'pop': [1.5, 1.7, 3.6, 2.4, 2.9]}\n",
    "#1\n",
    "frame = DataFrame(data)\n",
    "print (frame)\n",
    "for item in frame.loc[:,\"state\"]:\n",
    "#2,3,4,5,……\n",
    "    print (item)\n",
    "    \n"
   ]
  },
  {
   "cell_type": "code",
   "execution_count": 68,
   "metadata": {},
   "outputs": [
    {
     "name": "stdout",
     "output_type": "stream",
     "text": [
      "user_name                           6147\n",
      "user_statuses_count                14714\n",
      "user_followers_count                 134\n",
      "user_friends_count                   284\n",
      "user_verified                      False\n",
      "user_utc_offset                      NaN\n",
      "user_location                     Perock\n",
      "user_lang                             en\n",
      "user_time_zone                       NaN\n",
      "user_created_at_timestamp    1.51159e+09\n",
      "user_protected                     False\n",
      "user_description                       👅\n",
      "user_gender                          NaN\n",
      "user_country                    Malaysia\n",
      "user_state                           NaN\n",
      "user_city                            NaN\n",
      "Name: 1459, dtype: object\n"
     ]
    }
   ],
   "source": [
    "df = pd.read_csv(\"user_profiles_en_anony.csv\")\n",
    "for item in df[\"user_name\"]:\n",
    "    if item > 6000:\n",
    "        print (item)"
   ]
  },
  {
   "cell_type": "markdown",
   "metadata": {},
   "source": [
    "### Practice"
   ]
  },
  {
   "cell_type": "code",
   "execution_count": null,
   "metadata": {},
   "outputs": [],
   "source": [
    "# 1\n",
    "# [[1,2,3],[4,5,6],[7,8,9]]\n",
    "# Turn the Dictory above into DataFrame and print the DataFrame"
   ]
  },
  {
   "cell_type": "code",
   "execution_count": null,
   "metadata": {},
   "outputs": [],
   "source": [
    "# 2\n",
    "# {'state': ['Ohio', 'Ohio', 'Ohio', 'Nevada', 'Nevada'], 'year': [2000, 2001, 2002, 2001, 2002], 'pop': [1.5, 1.7, 3.6, 2.4, 2.9]}\n",
    "# Turn the Dictory above into DataFrame and use the index [\"I\", \"II\", \"III\", \"IV\", \"V\"]"
   ]
  },
  {
   "cell_type": "code",
   "execution_count": null,
   "metadata": {},
   "outputs": [],
   "source": [
    "# 3\n",
    "# Read user_profiles_ch_anony.csv as DataFrame df and print the first 3 rows of df"
   ]
  },
  {
   "cell_type": "code",
   "execution_count": null,
   "metadata": {},
   "outputs": [],
   "source": [
    "# 4\n",
    "# Read the shape of df and print it"
   ]
  },
  {
   "cell_type": "code",
   "execution_count": null,
   "metadata": {},
   "outputs": [],
   "source": [
    "# 5\n",
    "# Read the variables(column titles) of df and print them"
   ]
  },
  {
   "cell_type": "code",
   "execution_count": null,
   "metadata": {},
   "outputs": [],
   "source": [
    "# 6\n",
    "# Read column \"user_statuses_count\" of df in two ways and print the column"
   ]
  },
  {
   "cell_type": "code",
   "execution_count": null,
   "metadata": {},
   "outputs": [],
   "source": [
    "# 7\n",
    "# Read the index of df and print it"
   ]
  },
  {
   "cell_type": "code",
   "execution_count": null,
   "metadata": {},
   "outputs": [],
   "source": [
    "# 8\n",
    "# Read the 55th row of df (Note: the index number of 55th is 54 as the index number begins at 0)"
   ]
  },
  {
   "cell_type": "code",
   "execution_count": null,
   "metadata": {},
   "outputs": [],
   "source": [
    "# 9\n",
    "# Transpose df and print the first 3 rows"
   ]
  },
  {
   "cell_type": "code",
   "execution_count": null,
   "metadata": {},
   "outputs": [],
   "source": [
    "# 10\n",
    "# Select columns \"user_statuses_count\", \"user_lang\", and \"user_followers_count\" and print the first 3 rows"
   ]
  },
  {
   "cell_type": "code",
   "execution_count": null,
   "metadata": {},
   "outputs": [],
   "source": [
    "# 11\n",
    "# Select the 95-100th items and print them"
   ]
  },
  {
   "cell_type": "code",
   "execution_count": null,
   "metadata": {},
   "outputs": [],
   "source": [
    "# 12\n",
    "# Select items whose \"user_statuses_count\" is above 10000 and print them"
   ]
  },
  {
   "cell_type": "code",
   "execution_count": null,
   "metadata": {},
   "outputs": [],
   "source": [
    "# 13\n",
    "# Select items whose \"user_statuses_count\" is between 10000 and 10500 and print them"
   ]
  },
  {
   "cell_type": "code",
   "execution_count": null,
   "metadata": {},
   "outputs": [],
   "source": [
    "# 14\n",
    "# Print \"user_statuses_count\"  values of the items whose \"user_statuses_count\" is between 10000 and 10500 without using loc (prompt: using if and for)"
   ]
  }
 ],
 "metadata": {
  "kernelspec": {
   "display_name": "Python 3",
   "language": "python",
   "name": "python3"
  },
  "language_info": {
   "codemirror_mode": {
    "name": "ipython",
    "version": 3
   },
   "file_extension": ".py",
   "mimetype": "text/x-python",
   "name": "python",
   "nbconvert_exporter": "python",
   "pygments_lexer": "ipython3",
   "version": "3.7.0"
  }
 },
 "nbformat": 4,
 "nbformat_minor": 2
}
